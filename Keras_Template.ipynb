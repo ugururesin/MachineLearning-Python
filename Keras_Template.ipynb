{
 "cells": [
  {
   "cell_type": "markdown",
   "metadata": {},
   "source": [
    "### Keras Sequential() Template"
   ]
  },
  {
   "cell_type": "markdown",
   "metadata": {},
   "source": [
    "model = Sequential()\n",
    "model.add(Layer1(...,input))\n",
    "...\n",
    "model.add(LayerN(...))\n",
    "model.add(Dense((output))\n",
    "model.add(Activation('sofmax'))\n",
    "model.compile(optimizer = ..., loss = ... , metrics=...)\n",
    "model.fit(...)\n",
    "\n",
    "optimzers:\n",
    "'sgd'\n",
    "rmsprop\n",
    "adagrad\n",
    "adadelta\n",
    "adam\n",
    "adamax\n",
    "nadam\n",
    "\n",
    "loss: procduces backprop.values by comparing preds & grand truths for training the net"
   ]
  }
 ],
 "metadata": {
  "kernelspec": {
   "display_name": "Python 3",
   "language": "python",
   "name": "python3"
  },
  "language_info": {
   "codemirror_mode": {
    "name": "ipython",
    "version": 3
   },
   "file_extension": ".py",
   "mimetype": "text/x-python",
   "name": "python",
   "nbconvert_exporter": "python",
   "pygments_lexer": "ipython3",
   "version": "3.7.3"
  }
 },
 "nbformat": 4,
 "nbformat_minor": 4
}
